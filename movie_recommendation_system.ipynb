{
  "nbformat": 4,
  "nbformat_minor": 0,
  "metadata": {
    "colab": {
      "provenance": []
    },
    "kernelspec": {
      "name": "python3",
      "display_name": "Python 3"
    },
    "language_info": {
      "name": "python"
    }
  },
  "cells": [
    {
      "cell_type": "code",
      "execution_count": null,
      "metadata": {
        "id": "DCIdh9n9QCNf"
      },
      "outputs": [],
      "source": [
        "import numpy as np\n",
        "import pandas as pd\n",
        "import difflib\n",
        "from sklearn.feature_extraction.text import TfidfVectorizer\n",
        "from sklearn.metrics.pairwise import cosine_similarity\n",
        "\n",
        "\n"
      ]
    },
    {
      "cell_type": "code",
      "source": [
        "# loading the data from the csv file to apandas dataframe\n",
        "movies_data = pd.read_csv('/content/drive/MyDrive/movies.csv')\n"
      ],
      "metadata": {
        "id": "JZRh6m1rmhn0"
      },
      "execution_count": null,
      "outputs": []
    },
    {
      "cell_type": "code",
      "source": [
        "# selecting the relevant features for recommendation\n",
        "\n",
        "selected_features = ['genres','keywords','tagline','cast','director']\n",
        "# replacing the null valuess with null string\n",
        "\n",
        "for feature in selected_features:\n",
        "  movies_data[feature] = movies_data[feature].fillna('')\n",
        "# combining all the 5 selected features\n",
        "\n",
        "combined_features = movies_data['genres']+' '+movies_data['keywords']+' '+movies_data['tagline']+' '+movies_data['cast']+' '+movies_data['director']\n"
      ],
      "metadata": {
        "id": "ugRHyhKqmqsf"
      },
      "execution_count": null,
      "outputs": []
    },
    {
      "cell_type": "code",
      "source": [
        "#converting the text data to feature vectors\n",
        "vectorizer = TfidfVectorizer()\n",
        "feature_vectors = vectorizer.fit_transform(combined_features)\n",
        "# getting the similarity scores using cosine similarity\n",
        "\n",
        "similarity = cosine_similarity(feature_vectors)\n",
        "movie_name = input(' Enter your favourite movie name : ')\n",
        "\n",
        "list_of_all_titles = movies_data['title'].tolist()\n",
        "\n",
        "find_close_match = difflib.get_close_matches(movie_name, list_of_all_titles)\n",
        "\n",
        "close_match = find_close_match[0]\n",
        "\n",
        "index_of_the_movie = movies_data[movies_data.title == close_match]['index'].values[0]\n",
        "\n",
        "similarity_score = list(enumerate(similarity[index_of_the_movie]))\n",
        "\n",
        "sorted_similar_movies = sorted(similarity_score, key = lambda x:x[1], reverse = True)\n",
        "\n",
        "print('Movies suggested for you : \\n')\n",
        "\n",
        "i = 1\n",
        "\n",
        "for movie in sorted_similar_movies:\n",
        "  index = movie[0]\n",
        "  title_from_index = movies_data[movies_data.index==index]['title'].values[0]\n",
        "  if (i<30):\n",
        "    print(i, '.',title_from_index)\n",
        "    i+=1"
      ],
      "metadata": {
        "colab": {
          "base_uri": "https://localhost:8080/"
        },
        "id": "SWHKAfpTmfCo",
        "outputId": "4acfaeb9-b4ba-4f59-9f91-f112343f0fec"
      },
      "execution_count": null,
      "outputs": [
        {
          "output_type": "stream",
          "name": "stdout",
          "text": [
            " Enter your favourite movie name : cars\n",
            "Movies suggested for you : \n",
            "\n",
            "1 . Cars\n",
            "2 . Cars 2\n",
            "3 . The Fast and the Furious: Tokyo Drift\n",
            "4 . 2 Fast 2 Furious\n",
            "5 . The Final Destination\n",
            "6 . Death Race\n",
            "7 . Days of Thunder\n",
            "8 . Furious 7\n",
            "9 . Herbie Fully Loaded\n",
            "10 . Larry the Cable Guy: Health Inspector\n",
            "11 . The Fast and the Furious\n",
            "12 . The Cable Guy\n",
            "13 . Back to the Future Part II\n",
            "14 . Witless Protection\n",
            "15 . Gone in Sixty Seconds\n",
            "16 . Turbo\n",
            "17 . The Transporter\n",
            "18 . Cheaper by the Dozen\n",
            "19 . Vacation\n",
            "20 . Back to the Future\n",
            "21 . The Siege\n",
            "22 . The Woman Chaser\n",
            "23 . Toy Story\n",
            "24 . Speed Racer\n",
            "25 . American Graffiti\n",
            "26 . Bottle Rocket\n",
            "27 . Bride of Chucky\n",
            "28 . Life or Something Like It\n",
            "29 . Cheaper by the Dozen 2\n"
          ]
        }
      ]
    }
  ]
}